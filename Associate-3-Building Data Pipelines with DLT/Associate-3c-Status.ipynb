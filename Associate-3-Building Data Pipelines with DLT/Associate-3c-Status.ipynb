{
 "cells": [
  {
   "cell_type": "code",
   "execution_count": 0,
   "metadata": {
    "application/vnd.databricks.v1+cell": {
     "cellMetadata": {},
     "inputWidgets": {},
     "nuid": "96bf9ccc-510a-4312-a7f3-f9e7568e0d64",
     "showTitle": false,
     "tableResultSettingsMap": {},
     "title": ""
    }
   },
   "outputs": [],
   "source": [
    "%sql\n",
    "-- Query 1\n",
    "-- TABLE status_bronze -- Fill in code to create or refresh a streaming table\n",
    "-- AS\n",
    "-- SELECT\n",
    "-- current_timestamp() AS processing_time, *\n",
    "-- FROM cloud_files(\"$(source)/status\", \"json\");\n",
    "\n",
    "CREATE OR REFRESH STREAMING TABLE status_bronze \n",
    "AS\n",
    "SELECT current_timestamp() AS processing_time, *\n",
    "FROM cloud_files(\"${source}/status\", \"json\");\n",
    "\n",
    "-- Query 2\n",
    "-- TABLE status_silver -- Fill in code to create or refresh a streaming table\n",
    "-- (CONSTRAINT valid_timestamp EXPECT (status_timestamp > 1640600000) ON VIOLATION DROP ROW)\n",
    "-- AS\n",
    "-- SELECT * EXCEPT (_rescued_data)\n",
    "-- FROM status _bronze; -- Fix the FROM clause to reference a the status_bronze streaming table\n",
    "\n",
    "CREATE OR REFRESH STREAMING TABLE status_silver \n",
    "(CONSTRAINT valid_timestamp EXPECT (status_timestamp > 1640600000) ON VIOLATION DROP ROW)\n",
    "AS\n",
    "SELECT * EXCEPT (_rescued_data)\n",
    "FROM STREAM(LIVE.status_bronze);\n",
    "\n",
    "-- Query 3\n",
    "-- VIEW email_updates -- Fill in code to create or refresh a streaming materialized view\n",
    "-- AS\n",
    "-- SELECT a.*, b.email\n",
    "-- FROM status_silver a -- Fix the FROM clause to reference the status silver streaming table\n",
    "-- INNER JOIN LIVE.subscribed_order_emails_v b\n",
    "-- ON a.order_id = b.order_id;\n",
    "\n",
    "CREATE OR REFRESH MATERIALIZED VIEW email_updates\n",
    "AS\n",
    "SELECT a.*, b.email\n",
    "FROM LIVE.status_silver a\n",
    "INNER JOIN LIVE.subscribed_order_emails_v b\n",
    "ON a.order_id = b.order_id;"
   ]
  }
 ],
 "metadata": {
  "application/vnd.databricks.v1+notebook": {
   "computePreferences": null,
   "dashboards": [],
   "environmentMetadata": {
    "base_environment": "",
    "environment_version": "2"
   },
   "inputWidgetPreferences": null,
   "language": "python",
   "notebookMetadata": {
    "pythonIndentUnit": 4
   },
   "notebookName": "Associate-3c-Status",
   "widgets": {}
  },
  "language_info": {
   "name": "python"
  }
 },
 "nbformat": 4,
 "nbformat_minor": 0
}
