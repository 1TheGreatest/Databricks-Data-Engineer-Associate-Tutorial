{
 "cells": [
  {
   "cell_type": "code",
   "execution_count": 0,
   "metadata": {
    "application/vnd.databricks.v1+cell": {
     "cellMetadata": {},
     "inputWidgets": {},
     "nuid": "d5eaf626-7b6c-4f2a-ba57-04d3a386c3c5",
     "showTitle": false,
     "tableResultSettingsMap": {},
     "title": ""
    }
   },
   "outputs": [],
   "source": [
    "%sql\n",
    "CREATE OR REFRESH STREAMING TABLE orders_bronze\n",
    "AS\n",
    "SELECT \n",
    "  *,\n",
    "  current_timestamp() AS ingestion_time,\n",
    "  _metadata.file_name AS source_file\n",
    "FROM cloud_files(\"${source}/orders\", \"json\", map(\"cloudFiles.inferColumnTypes\", \"true\"))\n"
   ]
  },
  {
   "cell_type": "code",
   "execution_count": 0,
   "metadata": {
    "application/vnd.databricks.v1+cell": {
     "cellMetadata": {},
     "inputWidgets": {},
     "nuid": "6d2eec17-aee7-4e67-a1db-9c879dfd9b2b",
     "showTitle": false,
     "tableResultSettingsMap": {},
     "title": ""
    }
   },
   "outputs": [],
   "source": [
    "%sql\n",
    "CREATE OR REFRESH STREAMING TABLE orders_silver\n",
    "  (CONSTRAINT valid_date EXPECT (order_timestamp > \"2021-01-01\") ON VIOLATION FAIL UPDATE)\n",
    "COMMENT \"Append only orders with valid timestamps\"\n",
    "TBLPROPERTIES (\"quality\" = \"silver\")\n",
    "AS\n",
    "SELECT\n",
    "  timestamp(order_timestamp) AS order_timestamp,\n",
    "  * EXCEPT (order_timestamp, _rescued_data)\n",
    "FROM STREAM(LIVE.orders_bronze)"
   ]
  },
  {
   "cell_type": "code",
   "execution_count": 0,
   "metadata": {
    "application/vnd.databricks.v1+cell": {
     "cellMetadata": {},
     "inputWidgets": {},
     "nuid": "9a9f8714-28ae-469d-a473-b111dbeaf024",
     "showTitle": false,
     "tableResultSettingsMap": {},
     "title": ""
    }
   },
   "outputs": [],
   "source": [
    "%sql\n",
    "CREATE OR REFRESH MATERIALIZED VIEW orders_by_date\n",
    "AS\n",
    "SELECT\n",
    "  order_timestamp::date AS order_date,\n",
    "  count(*) AS total_daily_orders\n",
    "FROM LIVE.orders_silver\n",
    "GROUP BY date(order_timestamp)"
   ]
  }
 ],
 "metadata": {
  "application/vnd.databricks.v1+notebook": {
   "computePreferences": null,
   "dashboards": [],
   "environmentMetadata": {
    "base_environment": "",
    "environment_version": "2"
   },
   "inputWidgetPreferences": null,
   "language": "python",
   "notebookMetadata": {
    "pythonIndentUnit": 4
   },
   "notebookName": "Associate-3a-Orders",
   "widgets": {}
  },
  "language_info": {
   "name": "python"
  }
 },
 "nbformat": 4,
 "nbformat_minor": 0
}
