{
 "cells": [
  {
   "cell_type": "code",
   "execution_count": 0,
   "metadata": {
    "application/vnd.databricks.v1+cell": {
     "cellMetadata": {},
     "inputWidgets": {},
     "nuid": "6db0c551-c431-4be8-8963-c3f1110dbc3a",
     "showTitle": false,
     "tableResultSettingsMap": {},
     "title": ""
    }
   },
   "outputs": [],
   "source": [
    "%sql\n",
    "CREATE OR REFRESH STREAMING TABLE customers_bronze\n",
    "  COMMENT \"Raw dat from customers CDC feed\"\n",
    "AS\n",
    "SELECT current_timestamp() processing_time, * \n",
    "FROM cloud_files(\"${source}/customers\", \"json\")"
   ]
  },
  {
   "cell_type": "code",
   "execution_count": 0,
   "metadata": {
    "application/vnd.databricks.v1+cell": {
     "cellMetadata": {},
     "inputWidgets": {},
     "nuid": "1d209e59-6102-4f66-87bb-4c509ee21991",
     "showTitle": false,
     "tableResultSettingsMap": {},
     "title": ""
    }
   },
   "outputs": [],
   "source": [
    "%sql\n",
    "CREATE STREAMING TABLE customers_bronze_clean\n",
    "  (\n",
    "    CONSTRAINT valid_id EXPECT (customer_id IS NOT NULL) ON VIOLATION FAIL UPDATE,\n",
    "    CONSTRAINT valid_operation EXPECT (operation IS NOT NULL) ON VIOLATION DROP ROW,\n",
    "    CONSTRAINT valid_name EXPECT (name IS NOT NULL or operation = \"DELETE\"), -- do nothing\n",
    "    CONSTRAINT valid_address EXPECT (\n",
    "      (address IS NOT NULL and\n",
    "      city IS NOT NULL and\n",
    "      state IS NOT NULL and\n",
    "      zip_code IS NOT NULL) or \n",
    "      operation = \"DELETE\"), -- do nothing\n",
    "    CONSTRAINT valid_email EXPECT (\n",
    "      rlike(email, '^([a-zA-Z0-9_\\\\-\\\\.]+)@([a-zA-Z0-9_\\\\-\\\\.]+)\\\\.([a-zA-Z]{2,5})$') or operation = \"DELETE\"\n",
    "    ) ON VIOLATION DROP ROW\n",
    "  )\n",
    "AS\n",
    "SELECT * FROM STREAM(LIVE.customers_bronze)"
   ]
  },
  {
   "cell_type": "code",
   "execution_count": 0,
   "metadata": {
    "application/vnd.databricks.v1+cell": {
     "cellMetadata": {},
     "inputWidgets": {},
     "nuid": "5cd0b4f8-e7a3-4316-8749-91dd7ff94731",
     "showTitle": false,
     "tableResultSettingsMap": {},
     "title": ""
    }
   },
   "outputs": [],
   "source": [
    "%sql\n",
    "CREATE OR REFRESH STREAMING TABLE customers_silver;\n",
    "\n",
    "APPLY CHANGES INTO LIVE.customers_silver\n",
    "FROM STREAM(LIVE.customers_bronze_clean)\n",
    "KEYS (customer_id)\n",
    "APPLY AS DELETE WHEN operation = \"DELETE\"\n",
    "SEQUENCE BY timestamp\n",
    "COLUMNS * EXCEPT (operation, _rescued_data)"
   ]
  },
  {
   "cell_type": "code",
   "execution_count": 0,
   "metadata": {
    "application/vnd.databricks.v1+cell": {
     "cellMetadata": {},
     "inputWidgets": {},
     "nuid": "12d302e3-bcb9-481d-a849-60f36f11c59b",
     "showTitle": false,
     "tableResultSettingsMap": {},
     "title": ""
    }
   },
   "outputs": [],
   "source": [
    "%sql\n",
    "CREATE MATERIALIZED VIEW customer_count_state\n",
    "COMMENT \"Number of customers by state\"\n",
    "AS\n",
    "SELECT \n",
    "  state, \n",
    "  count(*) as customer_count, \n",
    "  current_timestamp() as updated_at\n",
    "FROM LIVE.customers_silver \n",
    "GROUP BY state"
   ]
  },
  {
   "cell_type": "code",
   "execution_count": 0,
   "metadata": {
    "application/vnd.databricks.v1+cell": {
     "cellMetadata": {},
     "inputWidgets": {},
     "nuid": "3b2e0be6-090b-4b8f-9cc7-3178c47c98ac",
     "showTitle": false,
     "tableResultSettingsMap": {},
     "title": ""
    }
   },
   "outputs": [],
   "source": [
    "%sql\n",
    "CREATE LIVE VIEW subscribed_order_emails_v\n",
    "AS\n",
    "SELECT\n",
    "  a.customer_id,\n",
    "  a.order_id,\n",
    "  b.email\n",
    "FROM LIVE.orders_silver a\n",
    "INNER JOIN LIVE.customers_silver b\n",
    "ON a.customer_id = b.customer_id\n",
    "WHERE notification = \"Y\""
   ]
  }
 ],
 "metadata": {
  "application/vnd.databricks.v1+notebook": {
   "computePreferences": null,
   "dashboards": [],
   "environmentMetadata": {
    "base_environment": "",
    "environment_version": "2"
   },
   "inputWidgetPreferences": null,
   "language": "python",
   "notebookMetadata": {
    "pythonIndentUnit": 4
   },
   "notebookName": "Associate-3b-Customers",
   "widgets": {}
  },
  "language_info": {
   "name": "python"
  }
 },
 "nbformat": 4,
 "nbformat_minor": 0
}
