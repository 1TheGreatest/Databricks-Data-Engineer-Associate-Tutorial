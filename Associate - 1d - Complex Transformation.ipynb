{
 "cells": [
  {
   "cell_type": "code",
   "execution_count": 0,
   "metadata": {
    "application/vnd.databricks.v1+cell": {
     "cellMetadata": {
      "byteLimit": 2048000,
      "implicitDf": true,
      "rowLimit": 10000
     },
     "inputWidgets": {},
     "nuid": "9bcdfbdd-dd0e-4aa9-a6b5-2b8ad4e9eede",
     "showTitle": false,
     "tableResultSettingsMap": {},
     "title": ""
    }
   },
   "outputs": [],
   "source": [
    "%sql\n",
    "use catalog `get_started`;\n",
    "use schema `labuser`;\n",
    "\n",
    "SHOW TABLES"
   ]
  },
  {
   "cell_type": "code",
   "execution_count": 0,
   "metadata": {
    "application/vnd.databricks.v1+cell": {
     "cellMetadata": {
      "byteLimit": 2048000,
      "implicitDf": true,
      "rowLimit": 10000
     },
     "inputWidgets": {},
     "nuid": "e50773d7-f517-456d-9fe6-cf8b66be2083",
     "showTitle": false,
     "tableResultSettingsMap": {},
     "title": ""
    }
   },
   "outputs": [],
   "source": [
    "%sql\n",
    "SELECT string(key), string(value) FROM PARQUET.`/Volumes/get_started/labuser/myfiles/events`"
   ]
  },
  {
   "cell_type": "code",
   "execution_count": 0,
   "metadata": {
    "application/vnd.databricks.v1+cell": {
     "cellMetadata": {
      "byteLimit": 2048000,
      "implicitDf": true,
      "rowLimit": 10000
     },
     "inputWidgets": {},
     "nuid": "9757ee03-e92c-479e-a395-6a28fc49a45e",
     "showTitle": false,
     "tableResultSettingsMap": {},
     "title": ""
    }
   },
   "outputs": [],
   "source": [
    "%sql\n",
    "-- events raw is from a kafka payload and in most cases will be a binary encoded json values. (key, value)\n",
    "\n",
    "CREATE OR REPLACE TEMP VIEW events_strings AS\n",
    "SELECT string(key), string(value) FROM PARQUET.`/Volumes/get_started/labuser/myfiles/events`;\n",
    "\n",
    "SELECT * FROM events_strings LIMIT 10;"
   ]
  },
  {
   "cell_type": "code",
   "execution_count": 0,
   "metadata": {
    "application/vnd.databricks.v1+cell": {
     "cellMetadata": {
      "byteLimit": 2048000,
      "implicitDf": true,
      "rowLimit": 10000
     },
     "inputWidgets": {},
     "nuid": "88888fe9-5ae3-4ea3-80d5-b556c89166bf",
     "showTitle": false,
     "tableResultSettingsMap": {},
     "title": ""
    }
   },
   "outputs": [],
   "source": [
    "%sql\n",
    "SELECT * FROM events_strings \n",
    "WHERE value:event_type = \"error\" \n",
    "ORDER BY key LIMIT 5;"
   ]
  },
  {
   "cell_type": "markdown",
   "metadata": {
    "application/vnd.databricks.v1+cell": {
     "cellMetadata": {},
     "inputWidgets": {},
     "nuid": "82078fe9-c4e7-4c19-aa29-1025158fa263",
     "showTitle": false,
     "tableResultSettingsMap": {},
     "title": ""
    }
   },
   "source": [
    "Let's use the JSON string example above to derive the schema, then parse the entire JSON column into STRUCT types.\n",
    "\n",
    "• schema_of_json() returns the schema derived from an example JSON string.\n",
    "• from_json() parses a column containing a JSON string into a STRUCT type using the specified schema.\n",
    "\n",
    "After we unpack the JSON string to a STRUCT type, let's unpack and flatten all STRUCT fields into columns.\n",
    "\n",
    "* unpacking can be used to flatten a STRUCT; col_name.* pulls out the subfields of col_name into their own columns."
   ]
  },
  {
   "cell_type": "code",
   "execution_count": 0,
   "metadata": {
    "application/vnd.databricks.v1+cell": {
     "cellMetadata": {
      "byteLimit": 2048000,
      "implicitDf": true,
      "rowLimit": 10000
     },
     "inputWidgets": {},
     "nuid": "151f9b0b-86ab-4e51-b639-4627ce7f2c9f",
     "showTitle": false,
     "tableResultSettingsMap": {},
     "title": ""
    }
   },
   "outputs": [],
   "source": [
    "%sql\n",
    "SELECT schema_of_json('{\"event_type\": \"purchase\", \"timestamp\": 1744492072, \"location\": {\"country\": \"IN\", \"city\": \"New York\"}, \"devices\": [\"tablet\", \"mobile\", \"mobile\"], \"items\": [{\"sku\": \"65ac8e80\", \"qty\": 4, \"price\": 180.23}, {\"sku\": \"cbb9ac76\", \"qty\": 4, \"price\": 153.06}, {\"sku\": \"e1a387bb\", \"qty\": 3, \"price\": 127.65}], \"error\": null, \"tags\": [\"evening\", \"morning\"]}') AS schema;"
   ]
  },
  {
   "cell_type": "code",
   "execution_count": 0,
   "metadata": {
    "application/vnd.databricks.v1+cell": {
     "cellMetadata": {
      "byteLimit": 2048000,
      "implicitDf": true,
      "rowLimit": 10000
     },
     "inputWidgets": {},
     "nuid": "a496ad45-0959-4dc0-b986-b3cbbd70eefa",
     "showTitle": false,
     "tableResultSettingsMap": {},
     "title": ""
    }
   },
   "outputs": [],
   "source": [
    "%sql\n",
    "CREATE OR REPLACE TEMP VIEW parsed_events AS SELECT json.* FROM(\n",
    "  SELECT from_json(value, 'STRUCT<devices: ARRAY<STRING>, error: STRING, event_type: STRING, items: ARRAY<STRUCT<price: DOUBLE, qty: BIGINT, sku: STRING>>, location: STRUCT<city: STRING, country: STRING>, tags: ARRAY<STRING>, timestamp: BIGINT>' ) AS json FROM events_strings\n",
    ");\n",
    "\n",
    "SELECT * FROM parsed_events LIMIT 5"
   ]
  },
  {
   "cell_type": "markdown",
   "metadata": {
    "application/vnd.databricks.v1+cell": {
     "cellMetadata": {},
     "inputWidgets": {},
     "nuid": "ec10c8aa-96d7-4fe8-becf-8ee1a4dccffa",
     "showTitle": false,
     "tableResultSettingsMap": {},
     "title": ""
    }
   },
   "source": [
    "### Manipulate Arrays\n",
    "Spark SQL has a number of functions for manipulating array data, including the following:\n",
    "- explode() separates the elements of an array into multiple rows; this creates a new row for each element.\n",
    "- size() provides a count for the number of elements in an array for each row.\n",
    "\n",
    "The code below explodes the items field (an array of structs) into multiple rows and shows events containing arrays with 3 or more items."
   ]
  },
  {
   "cell_type": "code",
   "execution_count": 0,
   "metadata": {
    "application/vnd.databricks.v1+cell": {
     "cellMetadata": {
      "byteLimit": 2048000,
      "implicitDf": true,
      "rowLimit": 10000
     },
     "inputWidgets": {},
     "nuid": "fde6dc58-b950-4ca5-b619-ae8690f2af03",
     "showTitle": false,
     "tableResultSettingsMap": {},
     "title": ""
    }
   },
   "outputs": [],
   "source": [
    "%sql\n",
    "CREATE OR REPLACE TEMP VIEW exploded_events AS \n",
    "SELECT *, explode(items) AS item\n",
    "FROM parsed_events;\n",
    "    \n",
    "SELECT * FROM exploded_events WHERE size(items) >2 ;"
   ]
  },
  {
   "cell_type": "code",
   "execution_count": 0,
   "metadata": {
    "application/vnd.databricks.v1+cell": {
     "cellMetadata": {},
     "inputWidgets": {},
     "nuid": "c5c7184d-e993-4e80-a37c-0a953eaebff3",
     "showTitle": false,
     "tableResultSettingsMap": {},
     "title": ""
    }
   },
   "outputs": [],
   "source": []
  }
 ],
 "metadata": {
  "application/vnd.databricks.v1+notebook": {
   "computePreferences": null,
   "dashboards": [],
   "environmentMetadata": {
    "base_environment": "",
    "environment_version": "2"
   },
   "inputWidgetPreferences": null,
   "language": "python",
   "notebookMetadata": {
    "mostRecentlyExecutedCommandWithImplicitDF": {
     "commandId": 6342342639667156,
     "dataframes": [
      "_sqldf"
     ]
    },
    "pythonIndentUnit": 4
   },
   "notebookName": "Associate - 1d - Complex Transformation",
   "widgets": {}
  },
  "language_info": {
   "name": "python"
  }
 },
 "nbformat": 4,
 "nbformat_minor": 0
}
