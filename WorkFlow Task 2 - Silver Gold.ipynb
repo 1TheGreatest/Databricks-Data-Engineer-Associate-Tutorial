{
 "cells": [
  {
   "cell_type": "code",
   "execution_count": 0,
   "metadata": {
    "application/vnd.databricks.v1+cell": {
     "cellMetadata": {
      "byteLimit": 2048000,
      "implicitDf": true,
      "rowLimit": 10000
     },
     "inputWidgets": {},
     "nuid": "8c10d0e8-7ae6-4eaa-9af0-a696b4695637",
     "showTitle": false,
     "tableResultSettingsMap": {},
     "title": ""
    }
   },
   "outputs": [],
   "source": [
    "%sql\n",
    "use catalog `get_started`;\n",
    "use schema `labuser`;\n",
    "\n",
    "\n",
    "-- create a temp view\n",
    "CREATE OR REPLACE TEMP VIEW temp_view_employees_silver AS\n",
    "SELECT ID, Firstname, Country, upper(Role) as Role, current_timestamp() as TimeStamp, date(timestamp) as Date \n",
    "FROM current_employees_bronze;\n",
    "\n",
    "-- View the results of the temp view\n",
    "SELECT * FROM temp_view_employees_silver; "
   ]
  },
  {
   "cell_type": "code",
   "execution_count": 0,
   "metadata": {
    "application/vnd.databricks.v1+cell": {
     "cellMetadata": {},
     "inputWidgets": {},
     "nuid": "5cda3546-c6b5-4a53-bc66-c7c3f02d9c88",
     "showTitle": false,
     "tableResultSettingsMap": {},
     "title": ""
    }
   },
   "outputs": [],
   "source": [
    "%sql\n",
    "-- drop table if exists current_employees\n",
    "DROP TABLE IF EXISTS current_employees_silver;\n",
    "\n",
    "-- create an empty delta table and columns\n",
    "CREATE TABLE IF NOT EXISTS current_employees_silver (\n",
    "    ID INT,\n",
    "    Firstname STRING,\n",
    "    Country STRING,\n",
    "    Role STRING,\n",
    "    TimeStamp TIMESTAMP,\n",
    "    Date DATE\n",
    ");\n",
    "    \n",
    "-- Insert records from the view when not matched with the target silver table\n",
    "MERGE INTO current_employees_silver AS target\n",
    "USING temp_view_employees_silver AS source\n",
    "-- ON current_employees_silver.ID = temp_view_employees_silver.ID\n",
    "ON target.ID = source.ID\n",
    "WHEN NOT MATCHED THEN INSERT *;  -- insert records if not match\n",
    "\n",
    "\n",
    "-- View bronze table\n",
    "SELECT * FROM current_employees_silver;"
   ]
  },
  {
   "cell_type": "code",
   "execution_count": 0,
   "metadata": {
    "application/vnd.databricks.v1+cell": {
     "cellMetadata": {},
     "inputWidgets": {},
     "nuid": "19bd398d-d758-4bae-8c8a-857d938120e7",
     "showTitle": false,
     "tableResultSettingsMap": {},
     "title": ""
    }
   },
   "outputs": [],
   "source": [
    "%sql\n",
    "-- create a temp view\n",
    "CREATE OR REPLACE TEMP VIEW temp_view_total_roles AS\n",
    "SELECT Role,count(*) as TotalEmployees\n",
    "FROM current_employees_silver\n",
    "GROUP BY Role;\n",
    "\n",
    "-- View the results of the temp view\n",
    "SELECT * FROM temp_view_total_roles; "
   ]
  },
  {
   "cell_type": "code",
   "execution_count": 0,
   "metadata": {
    "application/vnd.databricks.v1+cell": {
     "cellMetadata": {},
     "inputWidgets": {},
     "nuid": "318ff780-8dbc-417f-bb5f-51d7691870a8",
     "showTitle": false,
     "tableResultSettingsMap": {},
     "title": ""
    }
   },
   "outputs": [],
   "source": [
    "%sql\n",
    "-- drop table if exists current_employees\n",
    "DROP TABLE IF EXISTS total_roles_gold;\n",
    "\n",
    "-- create an empty delta table and columns\n",
    "CREATE TABLE IF NOT EXISTS total_roles_gold (\n",
    "    Role STRING,\n",
    "    TotalEmployees INT\n",
    ");"
   ]
  },
  {
   "cell_type": "code",
   "execution_count": 0,
   "metadata": {
    "application/vnd.databricks.v1+cell": {
     "cellMetadata": {},
     "inputWidgets": {},
     "nuid": "dcd550bf-d876-45de-94a5-eaa9a3961cdc",
     "showTitle": false,
     "tableResultSettingsMap": {},
     "title": ""
    }
   },
   "outputs": [],
   "source": [
    "%sql\n",
    "-- Insert overwrite to give it history rather than dropping it\n",
    "INSERT OVERWRITE TABLE total_roles_gold\n",
    "SELECT * FROM temp_view_total_roles;"
   ]
  },
  {
   "cell_type": "code",
   "execution_count": 0,
   "metadata": {
    "application/vnd.databricks.v1+cell": {
     "cellMetadata": {},
     "inputWidgets": {},
     "nuid": "7098126a-37f2-4dbf-8e0c-e5f057dac920",
     "showTitle": false,
     "tableResultSettingsMap": {},
     "title": ""
    }
   },
   "outputs": [],
   "source": [
    "%sql\n",
    "SELECT * FROM total_roles_gold"
   ]
  }
 ],
 "metadata": {
  "application/vnd.databricks.v1+notebook": {
   "computePreferences": null,
   "dashboards": [],
   "environmentMetadata": {
    "base_environment": "",
    "environment_version": "2"
   },
   "inputWidgetPreferences": null,
   "language": "python",
   "notebookMetadata": {
    "mostRecentlyExecutedCommandWithImplicitDF": {
     "commandId": 8732676594242403,
     "dataframes": [
      "_sqldf"
     ]
    },
    "pythonIndentUnit": 4
   },
   "notebookName": "WorkFlow Task 2 - Silver Gold",
   "widgets": {}
  },
  "language_info": {
   "name": "python"
  }
 },
 "nbformat": 4,
 "nbformat_minor": 0
}
