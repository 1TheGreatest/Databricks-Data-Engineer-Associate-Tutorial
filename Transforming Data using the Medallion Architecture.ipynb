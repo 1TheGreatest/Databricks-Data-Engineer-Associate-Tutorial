{
 "cells": [
  {
   "cell_type": "code",
   "execution_count": 0,
   "metadata": {
    "application/vnd.databricks.v1+cell": {
     "cellMetadata": {
      "byteLimit": 2048000,
      "implicitDf": true,
      "rowLimit": 10000
     },
     "inputWidgets": {},
     "nuid": "36ff9647-309f-4ab3-b377-68a03aeaa538",
     "showTitle": false,
     "tableResultSettingsMap": {},
     "title": ""
    }
   },
   "outputs": [],
   "source": [
    "%sql\n",
    "use catalog `get_started`;\n",
    "use schema `labuser`;\n",
    "\n",
    "SHOW TABLES;"
   ]
  },
  {
   "cell_type": "markdown",
   "metadata": {
    "application/vnd.databricks.v1+cell": {
     "cellMetadata": {},
     "inputWidgets": {},
     "nuid": "3e1091f7-1125-4a98-98d9-0feda64b07b3",
     "showTitle": false,
     "tableResultSettingsMap": {},
     "title": ""
    }
   },
   "source": [
    "Simple Example of the Medallion Architecture\n",
    "Data transtormation Overview\n",
    "Objective: Create a pipeline that can be scheduled to run automatically. The pipeline will:\n",
    "1. Ingest all CSV files from the myfiles volume and create a bronze table.\n",
    "2. Prepare the bronze table by adding new columns and create a silver table.\n",
    "3. Create a gold aggregated table for consumers."
   ]
  },
  {
   "cell_type": "markdown",
   "metadata": {
    "application/vnd.databricks.v1+cell": {
     "cellMetadata": {},
     "inputWidgets": {},
     "nuid": "81a8c304-4bd8-4fbd-ac90-8f2e216fba2e",
     "showTitle": false,
     "tableResultSettingsMap": {},
     "title": ""
    }
   },
   "source": [
    "### Bronze\n",
    "#### Create a table using all csv file in myfiles volume\n"
   ]
  },
  {
   "cell_type": "code",
   "execution_count": 0,
   "metadata": {
    "application/vnd.databricks.v1+cell": {
     "cellMetadata": {
      "byteLimit": 2048000,
      "implicitDf": true,
      "rowLimit": 10000
     },
     "inputWidgets": {},
     "nuid": "65f85ce1-7ae0-44b2-8807-70ccef07cf91",
     "showTitle": false,
     "tableResultSettingsMap": {},
     "title": ""
    }
   },
   "outputs": [],
   "source": [
    "%sql\n",
    "use catalog `get_started`;\n",
    "use schema `labuser`;\n",
    "\n",
    "-- drop table if exists current_employees\n",
    "DROP TABLE IF EXISTS current_employees_bronze;\n",
    "\n",
    "-- create an empty delta table and columns\n",
    "CREATE TABLE IF NOT EXISTS current_employees_bronze (\n",
    "    ID INT,\n",
    "    Firstname STRING,\n",
    "    Country STRING,\n",
    "    Role STRING,\n",
    "    InputFile STRING\n",
    ") USING DELTA;\n",
    "    \n",
    "-- create the bronze raw ingestion table and include the csv file name for the rows\n",
    "COPY INTO current_employees_bronze\n",
    "FROM (\n",
    "  SELECT *, _metadata.file_name AS InputFile\n",
    "  FROM '/Volumes/get_started/labuser/myfiles/'\n",
    "  )\n",
    "FILEFORMAT = CSV\n",
    "FORMAT_OPTIONS ('header' = 'true', \"inferSchema\" = 'true');\n",
    "\n",
    "\n",
    "-- View bronze table\n",
    "SELECT * FROM current_employees_bronze;"
   ]
  },
  {
   "cell_type": "markdown",
   "metadata": {
    "application/vnd.databricks.v1+cell": {
     "cellMetadata": {},
     "inputWidgets": {},
     "nuid": "7952b705-c59d-4143-93d0-4c3b0f4fc2d7",
     "showTitle": false,
     "tableResultSettingsMap": {},
     "title": ""
    }
   },
   "source": [
    "### Silver\n",
    "Objective: Transform the bronze table and insert the resulting rows into the silver table.\n",
    "1. Create and display a temporary view named temp_view_employees_silver from the current_employees_bronze table.\n",
    "The view will:\n",
    "- Select the columns ID, FirstName, Country.\n",
    "- Convert the Role column to uppercase.\n",
    "- Add two new columns: Timestamp and Date."
   ]
  },
  {
   "cell_type": "code",
   "execution_count": 0,
   "metadata": {
    "application/vnd.databricks.v1+cell": {
     "cellMetadata": {
      "byteLimit": 2048000,
      "implicitDf": true,
      "rowLimit": 10000
     },
     "inputWidgets": {},
     "nuid": "fc39f5e6-d589-4a87-8eee-08347f37b747",
     "showTitle": false,
     "tableResultSettingsMap": {},
     "title": ""
    }
   },
   "outputs": [],
   "source": [
    "%sql\n",
    "-- create a temp view\n",
    "CREATE OR REPLACE TEMP VIEW temp_view_employees_silver AS\n",
    "SELECT ID, Firstname, Country, upper(Role) as Role, current_timestamp() as TimeStamp, date(timestamp) as Date \n",
    "FROM current_employees_bronze;\n",
    "\n",
    "-- View the results of the temp view\n",
    "SELECT * FROM temp_view_employees_silver; "
   ]
  },
  {
   "cell_type": "code",
   "execution_count": 0,
   "metadata": {
    "application/vnd.databricks.v1+cell": {
     "cellMetadata": {
      "byteLimit": 2048000,
      "implicitDf": true,
      "rowLimit": 10000
     },
     "inputWidgets": {},
     "nuid": "30580c71-3634-4b77-b651-5a15be90149d",
     "showTitle": false,
     "tableResultSettingsMap": {},
     "title": ""
    }
   },
   "outputs": [],
   "source": [
    "%sql\n",
    "-- drop table if exists current_employees\n",
    "DROP TABLE IF EXISTS current_employees_silver;\n",
    "\n",
    "-- create an empty delta table and columns\n",
    "CREATE TABLE IF NOT EXISTS current_employees_silver (\n",
    "    ID INT,\n",
    "    Firstname STRING,\n",
    "    Country STRING,\n",
    "    Role STRING,\n",
    "    TimeStamp TIMESTAMP,\n",
    "    Date DATE\n",
    ");\n",
    "    \n",
    "-- Insert records from the view when not matched with the target silver table\n",
    "MERGE INTO current_employees_silver AS target\n",
    "USING temp_view_employees_silver AS source\n",
    "-- ON current_employees_silver.ID = temp_view_employees_silver.ID\n",
    "ON target.ID = source.ID\n",
    "WHEN NOT MATCHED THEN INSERT *;  -- insert records if not match\n",
    "\n",
    "\n",
    "-- View bronze table\n",
    "SELECT * FROM current_employees_silver;"
   ]
  },
  {
   "cell_type": "markdown",
   "metadata": {
    "application/vnd.databricks.v1+cell": {
     "cellMetadata": {},
     "inputWidgets": {},
     "nuid": "92366571-3ca2-4d9e-97e2-2ce1810a93e3",
     "showTitle": false,
     "tableResultSettingsMap": {},
     "title": ""
    }
   },
   "source": [
    "### GOLD\n",
    "Aggregate the silver table to create the final gold table\n",
    "\n",
    "1. Create a temporary vieew name temp_view_total_roles that aggregates the total number of employees by role. Then display the results of the view"
   ]
  },
  {
   "cell_type": "code",
   "execution_count": 0,
   "metadata": {
    "application/vnd.databricks.v1+cell": {
     "cellMetadata": {
      "byteLimit": 2048000,
      "implicitDf": true,
      "rowLimit": 10000
     },
     "inputWidgets": {},
     "nuid": "0860ab52-4f9f-4044-a687-f3b17f3aa946",
     "showTitle": false,
     "tableResultSettingsMap": {},
     "title": ""
    }
   },
   "outputs": [],
   "source": [
    "%sql\n",
    "-- create a temp view\n",
    "CREATE OR REPLACE TEMP VIEW temp_view_total_roles AS\n",
    "SELECT Role,count(*) as TotalEmployees\n",
    "FROM current_employees_silver\n",
    "GROUP BY Role;\n",
    "\n",
    "-- View the results of the temp view\n",
    "SELECT * FROM temp_view_total_roles; "
   ]
  },
  {
   "cell_type": "code",
   "execution_count": 0,
   "metadata": {
    "application/vnd.databricks.v1+cell": {
     "cellMetadata": {
      "byteLimit": 2048000,
      "implicitDf": true,
      "rowLimit": 10000
     },
     "inputWidgets": {},
     "nuid": "65adf2e3-9449-4d94-8e31-ed532ce027a3",
     "showTitle": false,
     "tableResultSettingsMap": {},
     "title": ""
    }
   },
   "outputs": [],
   "source": [
    "%sql\n",
    "-- drop table if exists current_employees\n",
    "DROP TABLE IF EXISTS total_roles_gold;\n",
    "\n",
    "-- create an empty delta table and columns\n",
    "CREATE TABLE IF NOT EXISTS total_roles_gold (\n",
    "    Role STRING,\n",
    "    TotalEmployees INT\n",
    ");"
   ]
  },
  {
   "cell_type": "code",
   "execution_count": 0,
   "metadata": {
    "application/vnd.databricks.v1+cell": {
     "cellMetadata": {
      "byteLimit": 2048000,
      "implicitDf": true,
      "rowLimit": 10000
     },
     "inputWidgets": {},
     "nuid": "464a91d7-bdbe-4852-a17e-835c661d901f",
     "showTitle": false,
     "tableResultSettingsMap": {},
     "title": ""
    }
   },
   "outputs": [],
   "source": [
    "%sql\n",
    "-- Insert overwrite to give it history rather than dropping it\n",
    "INSERT OVERWRITE TABLE total_roles_gold\n",
    "SELECT * FROM temp_view_total_roles;"
   ]
  },
  {
   "cell_type": "code",
   "execution_count": 0,
   "metadata": {
    "application/vnd.databricks.v1+cell": {
     "cellMetadata": {
      "byteLimit": 2048000,
      "implicitDf": true,
      "rowLimit": 10000
     },
     "inputWidgets": {},
     "nuid": "a1225d11-c6eb-445e-90a0-d4642ede2122",
     "showTitle": false,
     "tableResultSettingsMap": {},
     "title": ""
    }
   },
   "outputs": [],
   "source": [
    "%sql\n",
    "SELECT * FROM total_roles_gold"
   ]
  },
  {
   "cell_type": "markdown",
   "metadata": {
    "application/vnd.databricks.v1+cell": {
     "cellMetadata": {},
     "inputWidgets": {},
     "nuid": "c89aba1d-c8a3-4678-9899-a7021f806a2b",
     "showTitle": false,
     "tableResultSettingsMap": {},
     "title": ""
    }
   },
   "source": [
    "### Data Governance and Security\n",
    "Objectives: View the lineage of the total_roles gold table and learn how to set its permissions."
   ]
  },
  {
   "cell_type": "markdown",
   "metadata": {
    "application/vnd.databricks.v1+cell": {
     "cellMetadata": {
      "byteLimit": 2048000,
      "rowLimit": 10000
     },
     "inputWidgets": {},
     "nuid": "399c9baf-be9e-4e8f-a6a7-37e5fdbe7d61",
     "showTitle": false,
     "tableResultSettingsMap": {},
     "title": ""
    }
   },
   "source": [
    "### Cleanup\n"
   ]
  },
  {
   "cell_type": "code",
   "execution_count": 0,
   "metadata": {
    "application/vnd.databricks.v1+cell": {
     "cellMetadata": {
      "byteLimit": 2048000,
      "implicitDf": true,
      "rowLimit": 10000
     },
     "inputWidgets": {},
     "nuid": "ede78271-c5e6-4f9c-aed2-fcc82b3cfc42",
     "showTitle": false,
     "tableResultSettingsMap": {},
     "title": ""
    }
   },
   "outputs": [],
   "source": [
    "%sql\n",
    "-- Drop the temp view\n",
    "DROP VIEW IF EXISTS temp_view_total_roles;\n",
    "DROP VIEW IF EXISTS temp_view_employees_silver;\n",
    "\n",
    "-- Drop tables\n",
    "DROP TABLE IF EXISTS current_employees_bronze;\n",
    "DROP TABLE IF EXISTS current_employees_silver;\n",
    "DROP TABLE IF EXISTS total_roles_gold;"
   ]
  }
 ],
 "metadata": {
  "application/vnd.databricks.v1+notebook": {
   "computePreferences": null,
   "dashboards": [],
   "environmentMetadata": {
    "base_environment": "",
    "environment_version": "2"
   },
   "inputWidgetPreferences": null,
   "language": "python",
   "notebookMetadata": {
    "mostRecentlyExecutedCommandWithImplicitDF": {
     "commandId": 8732676594242390,
     "dataframes": [
      "_sqldf"
     ]
    },
    "pythonIndentUnit": 4
   },
   "notebookName": "Transforming Data using the Medallion Architecture",
   "widgets": {}
  },
  "language_info": {
   "name": "python"
  }
 },
 "nbformat": 4,
 "nbformat_minor": 0
}
