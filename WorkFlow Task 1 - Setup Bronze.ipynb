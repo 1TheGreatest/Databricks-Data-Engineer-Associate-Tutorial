{
 "cells": [
  {
   "cell_type": "code",
   "execution_count": 0,
   "metadata": {
    "application/vnd.databricks.v1+cell": {
     "cellMetadata": {
      "byteLimit": 2048000,
      "implicitDf": true,
      "rowLimit": 10000
     },
     "inputWidgets": {},
     "nuid": "5af7d0b1-325b-4e73-9d2e-b811032fea5e",
     "showTitle": false,
     "tableResultSettingsMap": {},
     "title": ""
    }
   },
   "outputs": [],
   "source": [
    "%sql\n",
    "use catalog `get_started`;\n",
    "use schema `labuser`;\n",
    "\n",
    "SHOW TABLES;"
   ]
  },
  {
   "cell_type": "code",
   "execution_count": 0,
   "metadata": {
    "application/vnd.databricks.v1+cell": {
     "cellMetadata": {
      "byteLimit": 2048000,
      "implicitDf": true,
      "rowLimit": 10000
     },
     "inputWidgets": {},
     "nuid": "4b177841-6758-4c50-946a-e99450f8ce3b",
     "showTitle": false,
     "tableResultSettingsMap": {},
     "title": ""
    }
   },
   "outputs": [],
   "source": [
    "%sql\n",
    "use catalog `get_started`;\n",
    "use schema `labuser`;\n",
    "\n",
    "-- drop table if exists current_employees\n",
    "DROP TABLE IF EXISTS current_employees_bronze;\n",
    "\n",
    "-- create an empty delta table and columns\n",
    "CREATE TABLE IF NOT EXISTS current_employees_bronze (\n",
    "    ID INT,\n",
    "    Firstname STRING,\n",
    "    Country STRING,\n",
    "    Role STRING,\n",
    "    InputFile STRING\n",
    ") USING DELTA;\n",
    "    \n",
    "-- create the bronze raw ingestion table and include the csv file name for the rows\n",
    "COPY INTO current_employees_bronze\n",
    "FROM (\n",
    "  SELECT *, _metadata.file_name AS InputFile\n",
    "  FROM '/Volumes/get_started/labuser/myfiles/'\n",
    "  )\n",
    "FILEFORMAT = CSV\n",
    "FORMAT_OPTIONS ('header' = 'true', \"inferSchema\" = 'true');\n",
    "\n",
    "\n",
    "-- View bronze table\n",
    "SELECT * FROM current_employees_bronze;"
   ]
  }
 ],
 "metadata": {
  "application/vnd.databricks.v1+notebook": {
   "computePreferences": null,
   "dashboards": [],
   "environmentMetadata": {
    "base_environment": "",
    "environment_version": "2"
   },
   "inputWidgetPreferences": null,
   "language": "python",
   "notebookMetadata": {
    "mostRecentlyExecutedCommandWithImplicitDF": {
     "commandId": 8732676594242395,
     "dataframes": [
      "_sqldf"
     ]
    },
    "pythonIndentUnit": 4
   },
   "notebookName": "WorkFlow Task 1 - Setup Bronze",
   "widgets": {}
  },
  "language_info": {
   "name": "python"
  }
 },
 "nbformat": 4,
 "nbformat_minor": 0
}
