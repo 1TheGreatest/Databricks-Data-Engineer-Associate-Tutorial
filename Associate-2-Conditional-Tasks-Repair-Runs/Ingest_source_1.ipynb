{
 "cells": [
  {
   "cell_type": "code",
   "execution_count": 0,
   "metadata": {
    "application/vnd.databricks.v1+cell": {
     "cellMetadata": {},
     "inputWidgets": {},
     "nuid": "8fec8b63-78a2-4da8-a34e-fa241e26e3da",
     "showTitle": false,
     "tableResultSettingsMap": {},
     "title": ""
    }
   },
   "outputs": [],
   "source": [
    "def test_parameter_value():\n",
    "    dbutils.widgets.text(name=\"test_value\", defaultValue=\"\")\n",
    "    if dbutils.widgets.get(\"test_value\") == \"Succeed\":\n",
    "        return True\n",
    "    return False\n",
    "\n",
    "assert test_parameter_value() == True"
   ]
  }
 ],
 "metadata": {
  "application/vnd.databricks.v1+notebook": {
   "computePreferences": null,
   "dashboards": [],
   "environmentMetadata": {
    "base_environment": "",
    "environment_version": "2"
   },
   "inputWidgetPreferences": null,
   "language": "python",
   "notebookMetadata": {
    "pythonIndentUnit": 4
   },
   "notebookName": "Ingest_source_1",
   "widgets": {}
  },
  "language_info": {
   "name": "python"
  }
 },
 "nbformat": 4,
 "nbformat_minor": 0
}
